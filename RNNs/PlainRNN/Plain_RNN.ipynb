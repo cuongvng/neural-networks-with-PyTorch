{
 "cells": [
  {
   "cell_type": "markdown",
   "metadata": {},
   "source": [
    "<a href=\"https://colab.research.google.com/github/cuongvng/neural-networks-with-PyTorch/blob/master/RNNs/PlainRNN/Plain_RNN.ipynb\" target=\"_parent\">\n",
    "    <img src=\"https://colab.research.google.com/assets/colab-badge.svg\" alt=\"Open in Colab\"/>\n",
    "</a>"
   ]
  },
  {
   "cell_type": "code",
   "execution_count": 9,
   "metadata": {},
   "outputs": [
    {
     "name": "stdout",
     "output_type": "stream",
     "text": [
      "Collecting git+https://github.com/cuongvng/neural-networks-with-PyTorch\n",
      "  Cloning https://github.com/cuongvng/neural-networks-with-PyTorch to /private/var/folders/gl/y27tnps503v1xfnl2xpl5ybc0000gn/T/pip-req-build-rzbwc6j6\n",
      "  Running command git clone -q https://github.com/cuongvng/neural-networks-with-PyTorch /private/var/folders/gl/y27tnps503v1xfnl2xpl5ybc0000gn/T/pip-req-build-rzbwc6j6\n",
      "Requirement already satisfied (use --upgrade to upgrade): train-plot-utils==1.0 from git+https://github.com/cuongvng/neural-networks-with-PyTorch in /Users/cuongvng/opt/miniconda3/envs/conda-nn-pytorch/lib/python3.7/site-packages/train_plot_utils-1.0-py3.7.egg\n",
      "Building wheels for collected packages: train-plot-utils\n",
      "  Building wheel for train-plot-utils (setup.py) ... \u001b[?25ldone\n",
      "\u001b[?25h  Created wheel for train-plot-utils: filename=train_plot_utils-1.0-py3-none-any.whl size=5457 sha256=0dc79d15de909f91594c26cd82d64702b81253820431d0491e636171bc173b53\n",
      "  Stored in directory: /private/var/folders/gl/y27tnps503v1xfnl2xpl5ybc0000gn/T/pip-ephem-wheel-cache-vzzppyy4/wheels/f7/47/17/cc4fb90864ec83d108689f208b7f6005c159e50f873674997d\n",
      "Successfully built train-plot-utils\n"
     ]
    }
   ],
   "source": [
    "!pip install git+https://github.com/cuongvng/neural-networks-with-PyTorch"
   ]
  },
  {
   "cell_type": "code",
   "execution_count": 10,
   "metadata": {},
   "outputs": [
    {
     "ename": "ModuleNotFoundError",
     "evalue": "No module named 'utils.rnn_dataset_creator'",
     "output_type": "error",
     "traceback": [
      "\u001b[0;31m---------------------------------------------------------------------------\u001b[0m",
      "\u001b[0;31mModuleNotFoundError\u001b[0m                       Traceback (most recent call last)",
      "\u001b[0;32m<ipython-input-10-23259bd391d3>\u001b[0m in \u001b[0;36m<module>\u001b[0;34m\u001b[0m\n\u001b[1;32m      5\u001b[0m \u001b[0;32mimport\u001b[0m \u001b[0msys\u001b[0m\u001b[0;34m\u001b[0m\u001b[0;34m\u001b[0m\u001b[0m\n\u001b[1;32m      6\u001b[0m \u001b[0msys\u001b[0m\u001b[0;34m.\u001b[0m\u001b[0mpath\u001b[0m\u001b[0;34m.\u001b[0m\u001b[0mappend\u001b[0m\u001b[0;34m(\u001b[0m\u001b[0;34m\"../..\"\u001b[0m\u001b[0;34m)\u001b[0m\u001b[0;34m\u001b[0m\u001b[0;34m\u001b[0m\u001b[0m\n\u001b[0;32m----> 7\u001b[0;31m \u001b[0;32mfrom\u001b[0m \u001b[0mutils\u001b[0m\u001b[0;34m.\u001b[0m\u001b[0mrnn_dataset_creator\u001b[0m \u001b[0;32mimport\u001b[0m \u001b[0mForexDataset\u001b[0m\u001b[0;34m\u001b[0m\u001b[0;34m\u001b[0m\u001b[0m\n\u001b[0m",
      "\u001b[0;31mModuleNotFoundError\u001b[0m: No module named 'utils.rnn_dataset_creator'"
     ]
    }
   ],
   "source": [
    "import torch\n",
    "import torch.nn as nn\n",
    "import torch.nn.functional as F\n",
    "from torch.utils.data import DataLoader\n",
    "import sys\n",
    "sys.path.append(\"../..\")\n",
    "from utils.rnn_dataset_creator import ForexDataset\n",
    "import matplotlib.pyplot as plt\n",
    "%matplotlib inline"
   ]
  },
  {
   "cell_type": "markdown",
   "metadata": {},
   "source": [
    "Load time series data"
   ]
  },
  {
   "cell_type": "code",
   "execution_count": null,
   "metadata": {},
   "outputs": [],
   "source": []
  }
 ],
 "metadata": {
  "kernelspec": {
   "display_name": "conda-nn-pytorch",
   "language": "python",
   "name": "conda-nn-pytorch"
  },
  "language_info": {
   "codemirror_mode": {
    "name": "ipython",
    "version": 3
   },
   "file_extension": ".py",
   "mimetype": "text/x-python",
   "name": "python",
   "nbconvert_exporter": "python",
   "pygments_lexer": "ipython3",
   "version": "3.7.5"
  }
 },
 "nbformat": 4,
 "nbformat_minor": 4
}

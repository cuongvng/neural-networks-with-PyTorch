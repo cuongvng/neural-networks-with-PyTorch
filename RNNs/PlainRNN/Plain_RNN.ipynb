{
  "nbformat": 4,
  "nbformat_minor": 0,
  "metadata": {
    "kernelspec": {
      "display_name": "conda-nn-pytorch",
      "language": "python",
      "name": "conda-nn-pytorch"
    },
    "language_info": {
      "codemirror_mode": {
        "name": "ipython",
        "version": 3
      },
      "file_extension": ".py",
      "mimetype": "text/x-python",
      "name": "python",
      "nbconvert_exporter": "python",
      "pygments_lexer": "ipython3",
      "version": "3.7.5"
    },
    "colab": {
      "name": "Plain_RNN.ipynb",
      "provenance": []
    }
  },
  "cells": [
    {
      "cell_type": "markdown",
      "metadata": {
        "id": "25-QcLfyWRzd",
        "colab_type": "text"
      },
      "source": [
        "<a href=\"https://colab.research.google.com/github/cuongvng/neural-networks-with-PyTorch/blob/master/RNNs/PlainRNN/Plain_RNN.ipynb\" target=\"_parent\">\n",
        "    <img src=\"https://colab.research.google.com/assets/colab-badge.svg\" alt=\"Open in Colab\"/>\n",
        "</a>"
      ]
    },
    {
      "cell_type": "code",
      "metadata": {
        "id": "3cvfq1DfWRzf",
        "colab_type": "code",
        "colab": {
          "base_uri": "https://localhost:8080/",
          "height": 190
        },
        "outputId": "84f50740-b87b-429a-e0c2-94b386346952"
      },
      "source": [
        "!pip install git+https://github.com/cuongvng/neural-networks-with-PyTorch"
      ],
      "execution_count": 4,
      "outputs": [
        {
          "output_type": "stream",
          "text": [
            "Collecting git+https://github.com/cuongvng/neural-networks-with-PyTorch\n",
            "  Cloning https://github.com/cuongvng/neural-networks-with-PyTorch to /tmp/pip-req-build-jw7utufh\n",
            "  Running command git clone -q https://github.com/cuongvng/neural-networks-with-PyTorch /tmp/pip-req-build-jw7utufh\n",
            "Requirement already satisfied (use --upgrade to upgrade): train-plot-utils==1.0 from git+https://github.com/cuongvng/neural-networks-with-PyTorch in /usr/local/lib/python3.6/dist-packages\n",
            "Building wheels for collected packages: train-plot-utils\n",
            "  Building wheel for train-plot-utils (setup.py) ... \u001b[?25l\u001b[?25hdone\n",
            "  Created wheel for train-plot-utils: filename=train_plot_utils-1.0-cp36-none-any.whl size=5563 sha256=6b555a20d9e213f49edc3810f2b958d420613341f760ed563528130aa04e502b\n",
            "  Stored in directory: /tmp/pip-ephem-wheel-cache-66obv41y/wheels/f4/9e/b4/490959541c854701592541b5fc01eb4bf691e878c4496d3517\n",
            "Successfully built train-plot-utils\n"
          ],
          "name": "stdout"
        }
      ]
    },
    {
      "cell_type": "markdown",
      "metadata": {
        "id": "x3rxDXvKbAMh",
        "colab_type": "text"
      },
      "source": [
        "Download time-series data"
      ]
    },
    {
      "cell_type": "code",
      "metadata": {
        "id": "0pHG0PwFXCa8",
        "colab_type": "code",
        "colab": {
          "base_uri": "https://localhost:8080/",
          "height": 68
        },
        "outputId": "78c6bfe0-4689-4680-da59-545f9e2101ee"
      },
      "source": [
        "!curl https://raw.githubusercontent.com/cuongvng/neural-networks-with-PyTorch/master/RNNs/data/EURUSD.csv > EURUSD.csv"
      ],
      "execution_count": 5,
      "outputs": [
        {
          "output_type": "stream",
          "text": [
            "  % Total    % Received % Xferd  Average Speed   Time    Time     Time  Current\n",
            "                                 Dload  Upload   Total   Spent    Left  Speed\n",
            "100 1864k  100 1864k    0     0  3329k      0 --:--:-- --:--:-- --:--:-- 3323k\n"
          ],
          "name": "stdout"
        }
      ]
    },
    {
      "cell_type": "code",
      "metadata": {
        "id": "zJ-OuR62WRzk",
        "colab_type": "code",
        "colab": {
          "base_uri": "https://localhost:8080/",
          "height": 34
        },
        "outputId": "a4d45d61-3267-4911-9c2f-138812d57750"
      },
      "source": [
        "import torch\n",
        "import torch.nn as nn\n",
        "import torch.nn.functional as F\n",
        "from torch.utils.data import DataLoader\n",
        "import sys\n",
        "sys.path.append(\"../..\")\n",
        "from utils.rnn_dataset_creator import ForexDataset\n",
        "import matplotlib.pyplot as plt\n",
        "%matplotlib inline\n",
        "import pandas as pd\n",
        "\n",
        "device = torch.device(\"cuda\" if torch.cuda.is_available() else \"cpu\")\n",
        "print(device)"
      ],
      "execution_count": 28,
      "outputs": [
        {
          "output_type": "stream",
          "text": [
            "cpu <class 'torch.device'>\n"
          ],
          "name": "stdout"
        }
      ]
    },
    {
      "cell_type": "markdown",
      "metadata": {
        "id": "JLvNdHH2bTcP",
        "colab_type": "text"
      },
      "source": [
        "Let see what the data looks like"
      ]
    },
    {
      "cell_type": "code",
      "metadata": {
        "id": "SObdor-KbgaQ",
        "colab_type": "code",
        "colab": {
          "base_uri": "https://localhost:8080/",
          "height": 499
        },
        "outputId": "b031a82b-212a-4b43-9a32-dd0b186bef1d"
      },
      "source": [
        "data = pd.read_csv(\"EURUSD.csv\")\n",
        "ax = data[\"Ask\"].plot(figsize=(12,8), title=\"EUR-USD on 1 trading day\")\n",
        "plt.show()"
      ],
      "execution_count": 7,
      "outputs": [
        {
          "output_type": "display_data",
          "data": {
            "image/png": "[encoded data removed]",
            "text/plain": [
              "<Figure size 864x576 with 1 Axes>"
            ]
          },
          "metadata": {
            "tags": [],
            "needs_background": "light"
          }
        }
      ]
    },
    {
      "cell_type": "markdown",
      "metadata": {
        "id": "ayQlmtkbWRzn",
        "colab_type": "text"
      },
      "source": [
        "Load data for training and testing by my custom PyTorch dataset class named `ForexDataset`. [Here](https://github.com/cuongvng/neural-networks-with-PyTorch/blob/rnn/utils/rnn_dataset_creator.py) is the source code of the class.\n",
        "\n",
        "Each element in `data_train` and `data_test` is a tuple `(X, y)` in which `X` is a sequence of time-series data with length specified by `num_steps`, and `y` is the output of the sequence `X`, i.e., the next element in the series."
      ]
    },
    {
      "cell_type": "code",
      "metadata": {
        "id": "2yyR_lXWIbPR",
        "colab_type": "code",
        "colab": {}
      },
      "source": [
        "num_steps = 20\n",
        "batch_size = 128"
      ],
      "execution_count": 19,
      "outputs": []
    },
    {
      "cell_type": "code",
      "metadata": {
        "id": "xOSA72jkWRzo",
        "colab_type": "code",
        "colab": {
          "base_uri": "https://localhost:8080/",
          "height": 102
        },
        "outputId": "eaa8e52f-36c6-42c9-adcd-4ebb1e61f467"
      },
      "source": [
        "train_size = 0.8\n",
        "data_train = ForexDataset(csv_file=\"EURUSD.csv\", num_steps=num_steps, train=True, train_size=train_size)\n",
        "data_test = ForexDataset(csv_file=\"EURUSD.csv\", num_steps=num_steps, train=False, train_size=train_size)\n",
        "print(\"Data train size:\",len(data_train))\n",
        "print(\"Data test size:\", len(data_test))\n",
        "print(data_train[0])"
      ],
      "execution_count": 11,
      "outputs": [
        {
          "output_type": "stream",
          "text": [
            "Data train size: 145414\n",
            "Data test size: 36338\n",
            "(tensor([1.1206, 1.1206, 1.1206, 1.1206, 1.1206, 1.1206, 1.1206, 1.1206, 1.1206,\n",
            "        1.1206, 1.1206, 1.1206, 1.1206, 1.1206, 1.1206, 1.1206, 1.1206, 1.1206,\n",
            "        1.1206, 1.1206], dtype=torch.float64), tensor(1.1206, dtype=torch.float64))\n"
          ],
          "name": "stdout"
        }
      ]
    },
    {
      "cell_type": "markdown",
      "metadata": {
        "id": "b9DK11bte9Lp",
        "colab_type": "text"
      },
      "source": [
        "Create data iterators for the custom dataset by `torch.utils.data.DataLoader`\n",
        "\n",
        "\n"
      ]
    },
    {
      "cell_type": "code",
      "metadata": {
        "id": "Bu2fGEFJZSNq",
        "colab_type": "code",
        "colab": {}
      },
      "source": [
        "train_loader = DataLoader(dataset=data_train, batch_size=batch_size, shuffle=False, num_workers=4)\n",
        "test_loader = DataLoader(dataset=data_test, batch_size=batch_size, shuffle=False, num_workers=4)"
      ],
      "execution_count": 12,
      "outputs": []
    },
    {
      "cell_type": "code",
      "metadata": {
        "id": "wAtBZjxHfs7R",
        "colab_type": "code",
        "colab": {}
      },
      "source": [
        ""
      ],
      "execution_count": null,
      "outputs": []
    },
    {
      "cell_type": "markdown",
      "metadata": {
        "id": "S6bYjiZ32ArX",
        "colab_type": "text"
      },
      "source": [
        "Now let take a revision on RNN with hidden state\n",
        "\n",
        "<figure>\n",
        "    <center>\n",
        "        <img src=\"https://github.com/cuongvng/neural-networks-with-PyTorch/blob/master/RNNs/img/rnn.svg?raw=1\" width=75%></img>\n",
        "        <figcaption> Computational flow of RNN </figcaption>  \n",
        "    </center>\n",
        "</figure>\n",
        "\n",
        "As we can see, an RNN block at timestep $t$ take both the current input $X_t$ and the previous hidden state $H_{t-1}$ as its input. The block then outputs its current hidden state $H_t$ and and output value $O_t$. Those are calculated via\n",
        "\n",
        "$$\n",
        "H_t = \\phi(X_{t-1}*W_{xh} + H_{t-1}*W_{hh} + b_h)\n",
        "$$\n",
        "\n",
        "Here $W_{xh} \\in R^{d \\times h}$ and $W_{hh} \\in R^{h \\times h}$ are the weight parameters corresponding to the input and the previous hidden state, respectively. $b_h \\in R^h$ is the bias. \n",
        "\n",
        "$d$ is the number of features of the data at each timestep, while $h$ is the number of hidden units (it is a tunable hyperparameter). In our case, $X_t$ has the shape of `(num_steps, 1)`, which means $d=1$.\n",
        "\n",
        "The result of the linear operation will be passed through an activation function $\\phi$.\n",
        "\n",
        "After obtaining $H_t$, the output at the current timestep $O_t$ is determined by\n",
        "\n",
        "$$\n",
        "O_t = H_t*W_{ho} + b_o\n",
        "$$\n",
        "\n",
        "with $W_{ho} \\in R^{h \\times o}$ and $b_o \\in R^o$. In our time-series problem, we are going to predict the next forex rate given a sequence of previous rate, so $o=1$."
      ]
    },
    {
      "cell_type": "markdown",
      "metadata": {
        "id": "-b3PsfFN75Zn",
        "colab_type": "text"
      },
      "source": [
        "Now let's implement RNN model **from scratch**"
      ]
    },
    {
      "cell_type": "code",
      "metadata": {
        "id": "yRfEE8CQ4bRe",
        "colab_type": "code",
        "colab": {}
      },
      "source": [
        "class RNN_scratch(object):\n",
        "    def __init__(self, batch_size, num_hidden, n_features, device):\n",
        "        self.num_hidden = num_hidden\n",
        "        self.n_features = n_features\n",
        "        self.batch_size = batch_size\n",
        "        self.device = device\n",
        "        self.init_state = self.init_state()\n",
        "        self.params = self.get_params()\n",
        "\n",
        "    def __call__(self, inputs, state):\n",
        "        return self.forward(inputs, state)\n",
        "    \n",
        "    def get_params(self):\n",
        "        d = self.n_features\n",
        "        o = self.n_features\n",
        "        h = self.num_hidden\n",
        "        device = self.device\n",
        "        print(device, type(device))\n",
        "        W_xh = torch.randn(size=(d, h), requires_grad=True, device=device)\n",
        "        W_hh = torch.randn(size=(h, h), requires_grad=True, device=device)\n",
        "        b_h = torch.randn(size=(h,), requires_grad=True, device=device)\n",
        "        W_ho = torch.randn(size=(h, o), requires_grad=True, device=device)\n",
        "        b_o = torch.randn(size=(o,), requires_grad=True, device=device)\n",
        "\n",
        "        return (W_xh, W_hh, b_h, W_ho, b_o)\n",
        "\n",
        "    def init_state(self):\n",
        "        return torch.zeros(size=(self.batch_size, self.num_hidden), device=self.device)\n",
        "\n",
        "    def forward(self, inputs, state):\n",
        "        # Input shape: (batch_size, num_steps, n_features=1)\n",
        "        W_xh, W_hh, b_h, W_ho, b_o = self.params\n",
        "        outputs = []\n",
        "        H = state\n",
        "        for X in inputs:\n",
        "            H = F.tanh(torch.mm(X, W_xh) + torch.mm(H, W_hh) + b_h)\n",
        "            O = torch.mm(H, W_ho) + b_o\n",
        "            outputs.append(O)\n",
        "        outputs = torch.cat(torch.tensor(outputs, dim=0))\n",
        "        \n",
        "        return outputs, H"
      ],
      "execution_count": 33,
      "outputs": []
    },
    {
      "cell_type": "code",
      "metadata": {
        "id": "5wxfM_UkSNeG",
        "colab_type": "code",
        "colab": {
          "base_uri": "https://localhost:8080/",
          "height": 511
        },
        "outputId": "96af8239-c91c-4749-e326-e844317fd94b"
      },
      "source": [
        "# A sanity check\n",
        "inputs = torch.randn(size=(batch_size, num_steps, 1))\n",
        "rnn = RNN_scratch(batch_size=batch_size, num_hidden=128, n_features=1, device=device)\n",
        "outputs, final_state = rnn(inputs, rnn.init_state)\n",
        "print(outputs.shape)\n",
        "print(final_state.shape)"
      ],
      "execution_count": 34,
      "outputs": [
        {
          "output_type": "stream",
          "text": [
            "cpu <class 'torch.device'>\n"
          ],
          "name": "stdout"
        },
        {
          "output_type": "error",
          "ename": "RuntimeError",
          "evalue": "ignored",
          "traceback": [
            "\u001b[0;31m---------------------------------------------------------------------------\u001b[0m",
            "\u001b[0;31mRuntimeError\u001b[0m                              Traceback (most recent call last)",
            "\u001b[0;32m<ipython-input-34-360f05531b26>\u001b[0m in \u001b[0;36m<module>\u001b[0;34m()\u001b[0m\n\u001b[1;32m      2\u001b[0m \u001b[0minputs\u001b[0m \u001b[0;34m=\u001b[0m \u001b[0mtorch\u001b[0m\u001b[0;34m.\u001b[0m\u001b[0mrandn\u001b[0m\u001b[0;34m(\u001b[0m\u001b[0msize\u001b[0m\u001b[0;34m=\u001b[0m\u001b[0;34m(\u001b[0m\u001b[0mbatch_size\u001b[0m\u001b[0;34m,\u001b[0m \u001b[0mnum_steps\u001b[0m\u001b[0;34m,\u001b[0m \u001b[0;36m1\u001b[0m\u001b[0;34m)\u001b[0m\u001b[0;34m)\u001b[0m\u001b[0;34m\u001b[0m\u001b[0;34m\u001b[0m\u001b[0m\n\u001b[1;32m      3\u001b[0m \u001b[0mrnn\u001b[0m \u001b[0;34m=\u001b[0m \u001b[0mRNN_scratch\u001b[0m\u001b[0;34m(\u001b[0m\u001b[0mbatch_size\u001b[0m\u001b[0;34m=\u001b[0m\u001b[0mbatch_size\u001b[0m\u001b[0;34m,\u001b[0m \u001b[0mnum_hidden\u001b[0m\u001b[0;34m=\u001b[0m\u001b[0;36m128\u001b[0m\u001b[0;34m,\u001b[0m \u001b[0mn_features\u001b[0m\u001b[0;34m=\u001b[0m\u001b[0;36m1\u001b[0m\u001b[0;34m,\u001b[0m \u001b[0mdevice\u001b[0m\u001b[0;34m=\u001b[0m\u001b[0mdevice\u001b[0m\u001b[0;34m)\u001b[0m\u001b[0;34m\u001b[0m\u001b[0;34m\u001b[0m\u001b[0m\n\u001b[0;32m----> 4\u001b[0;31m \u001b[0moutputs\u001b[0m\u001b[0;34m,\u001b[0m \u001b[0mfinal_state\u001b[0m \u001b[0;34m=\u001b[0m \u001b[0mrnn\u001b[0m\u001b[0;34m(\u001b[0m\u001b[0minputs\u001b[0m\u001b[0;34m,\u001b[0m \u001b[0mrnn\u001b[0m\u001b[0;34m.\u001b[0m\u001b[0minit_state\u001b[0m\u001b[0;34m)\u001b[0m\u001b[0;34m\u001b[0m\u001b[0;34m\u001b[0m\u001b[0m\n\u001b[0m\u001b[1;32m      5\u001b[0m \u001b[0mprint\u001b[0m\u001b[0;34m(\u001b[0m\u001b[0moutputs\u001b[0m\u001b[0;34m.\u001b[0m\u001b[0mshape\u001b[0m\u001b[0;34m)\u001b[0m\u001b[0;34m\u001b[0m\u001b[0;34m\u001b[0m\u001b[0m\n\u001b[1;32m      6\u001b[0m \u001b[0mprint\u001b[0m\u001b[0;34m(\u001b[0m\u001b[0mfinal_state\u001b[0m\u001b[0;34m.\u001b[0m\u001b[0mshape\u001b[0m\u001b[0;34m)\u001b[0m\u001b[0;34m\u001b[0m\u001b[0;34m\u001b[0m\u001b[0m\n",
            "\u001b[0;32m<ipython-input-33-2720481ad538>\u001b[0m in \u001b[0;36m__call__\u001b[0;34m(self, inputs, state)\u001b[0m\n\u001b[1;32m      9\u001b[0m \u001b[0;34m\u001b[0m\u001b[0m\n\u001b[1;32m     10\u001b[0m     \u001b[0;32mdef\u001b[0m \u001b[0m__call__\u001b[0m\u001b[0;34m(\u001b[0m\u001b[0mself\u001b[0m\u001b[0;34m,\u001b[0m \u001b[0minputs\u001b[0m\u001b[0;34m,\u001b[0m \u001b[0mstate\u001b[0m\u001b[0;34m)\u001b[0m\u001b[0;34m:\u001b[0m\u001b[0;34m\u001b[0m\u001b[0;34m\u001b[0m\u001b[0m\n\u001b[0;32m---> 11\u001b[0;31m         \u001b[0;32mreturn\u001b[0m \u001b[0mself\u001b[0m\u001b[0;34m.\u001b[0m\u001b[0mforward\u001b[0m\u001b[0;34m(\u001b[0m\u001b[0minputs\u001b[0m\u001b[0;34m,\u001b[0m \u001b[0mstate\u001b[0m\u001b[0;34m)\u001b[0m\u001b[0;34m\u001b[0m\u001b[0;34m\u001b[0m\u001b[0m\n\u001b[0m\u001b[1;32m     12\u001b[0m \u001b[0;34m\u001b[0m\u001b[0m\n\u001b[1;32m     13\u001b[0m     \u001b[0;32mdef\u001b[0m \u001b[0mget_params\u001b[0m\u001b[0;34m(\u001b[0m\u001b[0mself\u001b[0m\u001b[0;34m)\u001b[0m\u001b[0;34m:\u001b[0m\u001b[0;34m\u001b[0m\u001b[0;34m\u001b[0m\u001b[0m\n",
            "\u001b[0;32m<ipython-input-33-2720481ad538>\u001b[0m in \u001b[0;36mforward\u001b[0;34m(self, inputs, state)\u001b[0m\n\u001b[1;32m     34\u001b[0m         \u001b[0mH\u001b[0m \u001b[0;34m=\u001b[0m \u001b[0mstate\u001b[0m\u001b[0;34m\u001b[0m\u001b[0;34m\u001b[0m\u001b[0m\n\u001b[1;32m     35\u001b[0m         \u001b[0;32mfor\u001b[0m \u001b[0mX\u001b[0m \u001b[0;32min\u001b[0m \u001b[0minputs\u001b[0m\u001b[0;34m:\u001b[0m\u001b[0;34m\u001b[0m\u001b[0;34m\u001b[0m\u001b[0m\n\u001b[0;32m---> 36\u001b[0;31m             \u001b[0mH\u001b[0m \u001b[0;34m=\u001b[0m \u001b[0mF\u001b[0m\u001b[0;34m.\u001b[0m\u001b[0mtanh\u001b[0m\u001b[0;34m(\u001b[0m\u001b[0mtorch\u001b[0m\u001b[0;34m.\u001b[0m\u001b[0mmm\u001b[0m\u001b[0;34m(\u001b[0m\u001b[0mX\u001b[0m\u001b[0;34m,\u001b[0m \u001b[0mW_xh\u001b[0m\u001b[0;34m)\u001b[0m \u001b[0;34m+\u001b[0m \u001b[0mtorch\u001b[0m\u001b[0;34m.\u001b[0m\u001b[0mmm\u001b[0m\u001b[0;34m(\u001b[0m\u001b[0mH\u001b[0m\u001b[0;34m,\u001b[0m \u001b[0mW_hh\u001b[0m\u001b[0;34m)\u001b[0m \u001b[0;34m+\u001b[0m \u001b[0mb_h\u001b[0m\u001b[0;34m)\u001b[0m\u001b[0;34m\u001b[0m\u001b[0;34m\u001b[0m\u001b[0m\n\u001b[0m\u001b[1;32m     37\u001b[0m             \u001b[0mO\u001b[0m \u001b[0;34m=\u001b[0m \u001b[0mtorch\u001b[0m\u001b[0;34m.\u001b[0m\u001b[0mmm\u001b[0m\u001b[0;34m(\u001b[0m\u001b[0mH\u001b[0m\u001b[0;34m,\u001b[0m \u001b[0mW_ho\u001b[0m\u001b[0;34m)\u001b[0m \u001b[0;34m+\u001b[0m \u001b[0mb_o\u001b[0m\u001b[0;34m\u001b[0m\u001b[0;34m\u001b[0m\u001b[0m\n\u001b[1;32m     38\u001b[0m             \u001b[0moutputs\u001b[0m\u001b[0;34m.\u001b[0m\u001b[0mappend\u001b[0m\u001b[0;34m(\u001b[0m\u001b[0mO\u001b[0m\u001b[0;34m)\u001b[0m\u001b[0;34m\u001b[0m\u001b[0;34m\u001b[0m\u001b[0m\n",
            "\u001b[0;31mRuntimeError\u001b[0m: The size of tensor a (20) must match the size of tensor b (128) at non-singleton dimension 0"
          ]
        }
      ]
    },
    {
      "cell_type": "code",
      "metadata": {
        "id": "aCsVVPQujwbx",
        "colab_type": "code",
        "colab": {}
      },
      "source": [
        ""
      ],
      "execution_count": null,
      "outputs": []
    }
  ]
}
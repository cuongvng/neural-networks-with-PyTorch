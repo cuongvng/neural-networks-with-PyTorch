{
 "cells": [
  {
   "cell_type": "code",
   "execution_count": null,
   "metadata": {},
   "outputs": [],
   "source": [
    "!pip install git+https://github.com/cuongvng/neural-networks-with-PyTorch.git"
   ]
  },
  {
   "cell_type": "code",
   "execution_count": null,
   "metadata": {},
   "outputs": [],
   "source": [
    "!nvidia-smi"
   ]
  },
  {
   "cell_type": "code",
   "execution_count": 3,
   "metadata": {},
   "outputs": [
    {
     "name": "stdout",
     "output_type": "stream",
     "text": [
      "cpu\n"
     ]
    }
   ],
   "source": [
    "import torch\n",
    "import torch.nn as nn\n",
    "import torch.nn.functional as F\n",
    "import torch.optim as optim\n",
    "import torchvision\n",
    "import torchvision.transforms as transforms\n",
    "import sys\n",
    "sys.path.append(\"../..\")\n",
    "from utils.training_helpers import train_cnn\n",
    "device = torch.device(\"cuda\" if torch.cuda.is_available() else \"cpu\")\n",
    "print(device)"
   ]
  },
  {
   "cell_type": "markdown",
   "metadata": {},
   "source": [
    "Load CIFAR dataset"
   ]
  },
  {
   "cell_type": "code",
   "execution_count": null,
   "metadata": {},
   "outputs": [],
   "source": [
    "transform = transforms.Compose([\n",
    "                                transforms.Resize((224,224)),\n",
    "                                transforms.ToTensor() # convert data from PIL image to tensor\n",
    "                                ]) \n",
    "cifar_train = torchvision.datasets.CIFAR10(root=\"../data/\", train=True, \n",
    "                                     transform=transform, \n",
    "                                     target_transform=None, \n",
    "                                     download=True)\n",
    "cifar_test = torchvision.datasets.CIFAR10(root=\"../data/\", train=False, \n",
    "                                     transform=transform, \n",
    "                                     target_transform=None, \n",
    "                                     download=True)\n",
    "\n",
    "batch_size = 128\n",
    "train_loader = torch.utils.data.DataLoader(\n",
    "    dataset=cifar_train,\n",
    "    batch_size=128,\n",
    "    shuffle=True,\n",
    ")\n",
    "\n",
    "test_loader = torch.utils.data.DataLoader(\n",
    "    dataset=cifar_test,\n",
    "    batch_size=128,\n",
    "    shuffle=True,\n",
    "\n",
    ")\n",
    "classes = ('plane', 'car', 'bird', 'cat',\n",
    "           'deer', 'dog', 'frog', 'horse', 'ship', 'truck')"
   ]
  },
  {
   "cell_type": "markdown",
   "metadata": {},
   "source": [
    "Let's dive into ResNet's architechture.\n",
    "There are multiple types of ResNet, such as ResNet-18, ResNet-34, ResNet-50, ResNet-152, etc., but they has the same core: the **Residual Block**.\n",
    "In this notebook, I will demonstrate the ResNet-34."
   ]
  },
  {
   "cell_type": "markdown",
   "metadata": {},
   "source": [
    "<figure>\n",
    "    <center><img src=\"https://github.com/d2l-ai/d2l-en/blob/master/img/resnet-block.svg?raw=1\"/></center>\n",
    "    <center><figcaption class=\"center\">Residual Block</figcaption></center>\n",
    "</figure>"
   ]
  },
  {
   "cell_type": "code",
   "execution_count": 13,
   "metadata": {},
   "outputs": [],
   "source": [
    "class ResidualBlock(nn.Module):\n",
    "    def __init__(self, in_channels, out_channels, stride=1, use_1x1_conv=False):\n",
    "        super(ResidualBlock, self).__init__()\n",
    "        self.conv33 = nn.Conv2d(in_channels, out_channels, kernel_size=3, padding=1, stride=stride)\n",
    "        self.conv11 = nn.Conv2d(in_channels, out_channels, kernel_size=1, stride=stride)\n",
    "        self.bn = nn.BatchNorm2d(num_features=out_channels)\n",
    "    \n",
    "    def forward(self, X):\n",
    "        X_clone = X.clone()\n",
    "        \n",
    "        X = self.conv33(X)\n",
    "        X = F.relu(self.bn(X))\n",
    "        X = self.conv33(X)\n",
    "        X = self.bn(X)\n",
    "        \n",
    "        if use_1x1_conv:\n",
    "            X_clone = self.conv11(X_clone)\n",
    "\n",
    "        return F.relu(X + X_clone)"
   ]
  },
  {
   "cell_type": "markdown",
   "metadata": {},
   "source": [
    "Let's see the structures of different ResNet variants. \n",
    "\n",
    "![Structures of ResNets](img/ResNetStructures.png)\n",
    "Source: [the original ResNet paper](https://arxiv.org/pdf/1512.03385.pdf)\n",
    "\n"
   ]
  },
  {
   "cell_type": "markdown",
   "metadata": {},
   "source": [
    "As we can see, all the variants have the two `7x7 Conv` and `3x3 MaxPooling` layers at the beginning and the two `AvgPooling` and `Dense` Layers at the end. The difference lies in the intermediate layers, which contains multiple stacked Residual Blocks, which are denoted inside big square brackets.\n",
    "\n",
    "Note that we add a BatchNormalization layer after each Convolutional layer.\n",
    "Now let's implement the whole ResNet-34 model."
   ]
  },
  {
   "cell_type": "code",
   "execution_count": 14,
   "metadata": {},
   "outputs": [],
   "source": [
    "class ResNet34(nn.Module):\n",
    "    def __init__(self):\n",
    "        super(ResNet34, self).__init__()\n",
    "        \n",
    "        # Declare each layer on the table above:\n",
    "        \n",
    "        self.conv1 = nn.Sequential(\n",
    "            nn.Conv2d(in_channels=3, out_channels=64, kernel_size=7, stride=2, padding=3),\n",
    "            nn.BatchNorm2d(num_features=64), \n",
    "            nn.ReLU()\n",
    "        )\n",
    "        self.conv2_x = nn.Sequential(\n",
    "            nn.MaxPool2d(kernel_size=3, stride=2, padding=1),\n",
    "            ResidualBlock(in_channels=64, out_channels=64), \n",
    "            ResidualBlock(in_channels=64, out_channels=64),\n",
    "            ResidualBlock(in_channels=64, out_channels=64), \n",
    "        )\n",
    "        \n",
    "        # The first Residual Block in each subsequent layer use 1x1 convolutional layer and `stride=2` \n",
    "        # to halve the height and width of the input tensor.\n",
    "        # This does not apply to the above `self.conv2_x` because it already has the `MaxPool2d` layer to do so.\n",
    "        \n",
    "        self.conv3_x = nn.Sequential(\n",
    "            ResidualBlock(in_channels=64, out_channels=128, stride=2, use_1x1_conv=True), \n",
    "            ResidualBlock(in_channels=64, out_channels=128), \n",
    "            ResidualBlock(in_channels=64, out_channels=128), \n",
    "            ResidualBlock(in_channels=64, out_channels=128), \n",
    "        )\n",
    "        self.conv4_x = nn.Sequential(\n",
    "            ResidualBlock(in_channels=128, out_channels=256, stride=2, use_1x1_conv=True), \n",
    "            ResidualBlock(in_channels=128, out_channels=256), \n",
    "            ResidualBlock(in_channels=128, out_channels=256), \n",
    "            ResidualBlock(in_channels=128, out_channels=256), \n",
    "            ResidualBlock(in_channels=128, out_channels=256), \n",
    "            ResidualBlock(in_channels=128, out_channels=256), \n",
    "        )\n",
    "        self.conv5x = nn.Sequential(\n",
    "            ResidualBlock(in_channels=256, out_channels=512, stride=2, use_1x1_conv=True), \n",
    "            ResidualBlock(in_channels=256, out_channels=512), \n",
    "            ResidualBlock(in_channels=256, out_channels=512), \n",
    "        )\n",
    "        \n",
    "        # The Global Average Pooling layer will be replaced by an average pooling function in the `forward` method.\n",
    "        # The reason why I do not declare it as a torch.nn layer here is that for Global Pooling, the kernel size is the \n",
    "        # shape (height, width) of the input tensor, thus it outputs an 1x1 tensor (over the channel dimension).\n",
    "        # And since I do not know (or just be lazy to calculate) its kernel size, I will print the input shape\n",
    "        # at the `forward` method to get the kernel size.\n",
    "        \n",
    "        # The last dense layer will output 10 classes for the CIFAR dataset, not 1000 for the ImageNet dataset as on the table.\n",
    "        self.fc = nn.Linear(in_features=512, out_features=10)\n",
    "        \n",
    "    def forward(self, X):\n",
    "        X = X.type(torch.float)\n",
    "        \n",
    "        X = self.conv1(X)\n",
    "        X = self.conv2_x(X)\n",
    "        X = self.conv3_x(X)\n",
    "        X = self.conv4_x(X)\n",
    "        X = self.conv5_x(X)\n",
    "        \n",
    "        # Apply global avg pooling 2d (kernel size = (height, width) to get output's spatial dimension = (1,1))\n",
    "        X = F.avg_pool2d(X, kernel_size=(X.shape[2], X.shape[3]))\n",
    "        X = torch.flatten(X, start_dim=1)\n",
    "        X = self.fc(X)\n",
    "        \n",
    "        return X"
   ]
  },
  {
   "cell_type": "code",
   "execution_count": 15,
   "metadata": {},
   "outputs": [],
   "source": [
    "net = ResNet34()"
   ]
  },
  {
   "cell_type": "code",
   "execution_count": null,
   "metadata": {},
   "outputs": [],
   "source": [
    "criterion = nn.CrossEntropyLoss()\n",
    "optimizer = optim.Adam(net.parameters(),lr=0.001)"
   ]
  },
  {
   "cell_type": "code",
   "execution_count": null,
   "metadata": {},
   "outputs": [],
   "source": [
    "n_epochs = 10\n",
    "train_cnn(net, device, train_loader, test_loader, optimizer, criterion, n_epochs)r"
   ]
  }
 ],
 "metadata": {
  "kernelspec": {
   "display_name": "conda-nn-pytorch",
   "language": "python",
   "name": "conda-nn-pytorch"
  },
  "language_info": {
   "codemirror_mode": {
    "name": "ipython",
    "version": 3
   },
   "file_extension": ".py",
   "mimetype": "text/x-python",
   "name": "python",
   "nbconvert_exporter": "python",
   "pygments_lexer": "ipython3",
   "version": "3.7.5"
  }
 },
 "nbformat": 4,
 "nbformat_minor": 4
}

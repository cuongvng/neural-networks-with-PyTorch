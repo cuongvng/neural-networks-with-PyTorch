{
 "cells": [
  {
   "cell_type": "code",
   "execution_count": null,
   "metadata": {},
   "outputs": [],
   "source": [
    "!pip install git+https://github.com/cuongvng/neural-networks-with-PyTorch.git"
   ]
  },
  {
   "cell_type": "code",
   "execution_count": null,
   "metadata": {},
   "outputs": [],
   "source": [
    "!nvidia-smi"
   ]
  },
  {
   "cell_type": "code",
   "execution_count": 1,
   "metadata": {},
   "outputs": [
    {
     "name": "stdout",
     "output_type": "stream",
     "text": [
      "cpu\n"
     ]
    }
   ],
   "source": [
    "import torch\n",
    "import torch.nn as nn\n",
    "import torch.nn.functional as F\n",
    "import torch.optim as optim\n",
    "import torchvision\n",
    "import torchvision.transforms as transforms\n",
    "import sys\n",
    "sys.path.append(\"../..\")\n",
    "from utils.training_helpers import train_cnn\n",
    "device = torch.device(\"cuda\" if torch.cuda.is_available() else \"cpu\")\n",
    "print(device)"
   ]
  },
  {
   "cell_type": "markdown",
   "metadata": {},
   "source": [
    "Load CIFAR dataset"
   ]
  },
  {
   "cell_type": "code",
   "execution_count": null,
   "metadata": {},
   "outputs": [],
   "source": [
    "transform = transforms.Compose([\n",
    "                                transforms.Resize((96,96)),\n",
    "                                transforms.ToTensor() # convert data from PIL image to tensor\n",
    "                                ]) \n",
    "cifar_train = torchvision.datasets.CIFAR10(root=\"../data/\", train=True, \n",
    "                                     transform=transform, \n",
    "                                     target_transform=None, \n",
    "                                     download=True)\n",
    "cifar_test = torchvision.datasets.CIFAR10(root=\"../data/\", train=False, \n",
    "                                     transform=transform, \n",
    "                                     target_transform=None, \n",
    "                                     download=True)\n",
    "\n",
    "batch_size = 128\n",
    "train_loader = torch.utils.data.DataLoader(\n",
    "    dataset=cifar_train,\n",
    "    batch_size=128,\n",
    "    shuffle=True,\n",
    ")\n",
    "\n",
    "test_loader = torch.utils.data.DataLoader(\n",
    "    dataset=cifar_test,\n",
    "    batch_size=128,\n",
    "    shuffle=True,\n",
    "\n",
    ")\n",
    "classes = ('plane', 'car', 'bird', 'cat',\n",
    "           'deer', 'dog', 'frog', 'horse', 'ship', 'truck')"
   ]
  },
  {
   "cell_type": "markdown",
   "metadata": {},
   "source": [
    "Let's dive into ResNet's architechture.\n",
    "There are multiple types of ResNet, such as ResNet-18, ResNet-50, ResNet-152, etc., but they has the same core: the **Residual Block**.\n",
    "In this notebook, I will demonstrate the ResNet-18."
   ]
  },
  {
   "cell_type": "markdown",
   "metadata": {},
   "source": [
    "<figure>\n",
    "    <center><img src=\"https://github.com/d2l-ai/d2l-en/blob/master/img/resnet-block.svg?raw=1\"/></center>\n",
    "    <center><figcaption class=\"center\">Residual Block</figcaption></center>\n",
    "</figure>"
   ]
  },
  {
   "cell_type": "code",
   "execution_count": 2,
   "metadata": {},
   "outputs": [],
   "source": [
    "class ResidualBlock(nn.Module):\n",
    "    def __init__(self, in_channels, out_channels, use_1x1_conv=False):\n",
    "        super(ResidualBlock, self).__init__()\n",
    "        self.conv33 = nn.Conv2d(in_channels, out_channels, kernel_size=3, padding=1)\n",
    "        self.conv11 = nn.Conv2d(in_channels, out_channels, kernel_size=1)\n",
    "        self.bn = nn.BatchNorm2d()\n",
    "    \n",
    "    def forward(self, X):\n",
    "        X_clone = X.clone()\n",
    "        \n",
    "        X = self.conv33(X)\n",
    "        X = F.relu(self.bn(X))\n",
    "        X = self.conv33(X)\n",
    "        X = self.bn(X)\n",
    "        \n",
    "        if use_1x1_conv:\n",
    "            X_clone = self.conv11(X_clone)\n",
    "\n",
    "        return F.relu(X + X_clone)"
   ]
  },
  {
   "cell_type": "code",
   "execution_count": null,
   "metadata": {},
   "outputs": [],
   "source": []
  },
  {
   "cell_type": "code",
   "execution_count": null,
   "metadata": {},
   "outputs": [],
   "source": []
  },
  {
   "cell_type": "code",
   "execution_count": null,
   "metadata": {},
   "outputs": [],
   "source": []
  },
  {
   "cell_type": "code",
   "execution_count": null,
   "metadata": {},
   "outputs": [],
   "source": []
  },
  {
   "cell_type": "code",
   "execution_count": null,
   "metadata": {},
   "outputs": [],
   "source": [
    "criterion = nn.CrossEntropyLoss()\n",
    "optimizer = optim.Adam(net.parameters(),lr=0.001)"
   ]
  },
  {
   "cell_type": "code",
   "execution_count": null,
   "metadata": {},
   "outputs": [],
   "source": [
    "n_epochs = 10\n",
    "train_cnn(net, device, train_loader, test_loader, optimizer, criterion, n_epochs)r"
   ]
  }
 ],
 "metadata": {
  "kernelspec": {
   "display_name": "conda-nn-pytorch",
   "language": "python",
   "name": "conda-nn-pytorch"
  },
  "language_info": {
   "codemirror_mode": {
    "name": "ipython",
    "version": 3
   },
   "file_extension": ".py",
   "mimetype": "text/x-python",
   "name": "python",
   "nbconvert_exporter": "python",
   "pygments_lexer": "ipython3",
   "version": "3.7.5"
  }
 },
 "nbformat": 4,
 "nbformat_minor": 4
}
